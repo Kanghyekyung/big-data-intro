{
 "cells": [
  {
   "cell_type": "code",
   "execution_count": 1,
   "id": "ce79af15-ff70-44c5-8126-856fa7b1c532",
   "metadata": {},
   "outputs": [],
   "source": [
    "# SparkSession 설정\n",
    "from pyspark.sql import SparkSession\n",
    "spark = SparkSession.builder.master('local').appName('udf').getOrCreate()"
   ]
  },
  {
   "cell_type": "code",
   "execution_count": 2,
   "id": "2bee8f82-b93d-48b8-9766-8584334fcc61",
   "metadata": {},
   "outputs": [],
   "source": [
    "# 샘플 데이터 생성 (name,age)\n",
    "person_info = [\n",
    "    ('신짱구',5),\n",
    "    ('김철수',18),\n",
    "    ('이훈',36),\n",
    "    ('신유리',44),\n",
    "    ('맹구',71)\n",
    "]"
   ]
  },
  {
   "cell_type": "code",
   "execution_count": 3,
   "id": "af97178f-bdbe-4392-9fd4-3aa38d067122",
   "metadata": {},
   "outputs": [],
   "source": [
    "#스키마 정의\n",
    "from pyspark.sql.types import StructType, StructField, StringType, TimestampType, IntegerType\n",
    "schema = ['name','age']"
   ]
  },
  {
   "cell_type": "code",
   "execution_count": 4,
   "id": "f118cbf9-c6d5-44da-9369-cba0d432749d",
   "metadata": {},
   "outputs": [],
   "source": [
    "# 데이터프레임 생성\n",
    "df = spark.createDataFrame(data = person_info, schema = schema) #csv로 읽는게 아니고 data자체로 읽기때문"
   ]
  },
  {
   "cell_type": "code",
   "execution_count": 5,
   "id": "eaa7d9e7-6c40-4594-ae0c-a34363feb6e4",
   "metadata": {},
   "outputs": [
    {
     "name": "stdout",
     "output_type": "stream",
     "text": [
      "+------+---+\n",
      "|  name|age|\n",
      "+------+---+\n",
      "|신짱구|  5|\n",
      "|김철수| 18|\n",
      "|  이훈| 36|\n",
      "|신유리| 44|\n",
      "|  맹구| 71|\n",
      "+------+---+\n",
      "\n"
     ]
    }
   ],
   "source": [
    "#데이터프레임 출력\n",
    "df.show()"
   ]
  },
  {
   "cell_type": "code",
   "execution_count": 6,
   "id": "66aea46f-832a-47fb-972f-676ac5f4ced8",
   "metadata": {},
   "outputs": [
    {
     "name": "stdout",
     "output_type": "stream",
     "text": [
      "root\n",
      " |-- name: string (nullable = true)\n",
      " |-- age: long (nullable = true)\n",
      "\n"
     ]
    }
   ],
   "source": [
    "#데이터프레임 스키마 출력\n",
    "df.printSchema()"
   ]
  },
  {
   "cell_type": "code",
   "execution_count": 7,
   "id": "46147372-696d-4922-a21a-a93e08cded3c",
   "metadata": {},
   "outputs": [],
   "source": [
    "# Temporary View 생성\n",
    "df.createOrReplaceTempView('name_age')"
   ]
  },
  {
   "cell_type": "code",
   "execution_count": 8,
   "id": "dd79b972-4242-4a1f-a0e4-3b49b890377f",
   "metadata": {},
   "outputs": [],
   "source": [
    "# Annotation 방식으로 UDF 등록하기\n",
    "from pyspark.sql.functions import udf"
   ]
  },
  {
   "cell_type": "code",
   "execution_count": 9,
   "id": "44895efb-fe2b-4122-a4f2-1600f287ecac",
   "metadata": {},
   "outputs": [],
   "source": [
    "# UDF: 나이별 \n",
    "def age_category(age):\n",
    "    if age < 35:\n",
    "        return 'young' \n",
    "    elif 35 <= age and age <= 59:\n",
    "        return 'adult'\n",
    "    else:\n",
    "        return 'senior'"
   ]
  },
  {
   "cell_type": "code",
   "execution_count": 10,
   "id": "d5525578-d2b4-4190-bb11-3b90958496df",
   "metadata": {},
   "outputs": [
    {
     "data": {
      "text/plain": [
       "<function __main__.age_category(age)>"
      ]
     },
     "execution_count": 10,
     "metadata": {},
     "output_type": "execute_result"
    }
   ],
   "source": [
    "#udf 등록\n",
    "spark.udf.register(\"age_category\",age_category)"
   ]
  },
  {
   "cell_type": "code",
   "execution_count": 11,
   "id": "55b6afc9-7f0d-4c1e-bd7c-d2c60e2cad74",
   "metadata": {},
   "outputs": [
    {
     "name": "stdout",
     "output_type": "stream",
     "text": [
      "+------+------------+\n",
      "|  name|age_category|\n",
      "+------+------------+\n",
      "|신짱구|       young|\n",
      "|김철수|       young|\n",
      "|  이훈|       adult|\n",
      "|신유리|       adult|\n",
      "|  맹구|      senior|\n",
      "+------+------------+\n",
      "\n"
     ]
    }
   ],
   "source": [
    "#SQL문 처리\n",
    "spark.sql(\n",
    "    \"SELECT name, age_category(age) AS age_category FROM name_age\").show()"
   ]
  }
 ],
 "metadata": {
  "kernelspec": {
   "display_name": "Python 3 (ipykernel)",
   "language": "python",
   "name": "python3"
  },
  "language_info": {
   "codemirror_mode": {
    "name": "ipython",
    "version": 3
   },
   "file_extension": ".py",
   "mimetype": "text/x-python",
   "name": "python",
   "nbconvert_exporter": "python",
   "pygments_lexer": "ipython3",
   "version": "3.9.12"
  }
 },
 "nbformat": 4,
 "nbformat_minor": 5
}
